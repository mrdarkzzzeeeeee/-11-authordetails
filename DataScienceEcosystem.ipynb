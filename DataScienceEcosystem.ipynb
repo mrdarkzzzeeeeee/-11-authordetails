{
 "cells": [
  {
   "cell_type": "markdown",
   "id": "dae0d985",
   "metadata": {},
   "source": [
    "# Data Science Tools and Ecosystem"
   ]
  },
  {
   "cell_type": "markdown",
   "id": "27244f15",
   "metadata": {},
   "source": [
    "## In this notebook, Data Science Tools and Ecosystem are summarized."
   ]
  },
  {
   "cell_type": "markdown",
   "id": "caeef4b2",
   "metadata": {},
   "source": []
  },
  {
   "cell_type": "markdown",
   "id": "fc2d2009",
   "metadata": {},
   "source": [
    "# Some of the popular languages that Data Scientists use are:"
   ]
  },
  {
   "cell_type": "markdown",
   "id": "ac5e8dbf",
   "metadata": {},
   "source": [
    "* python\n",
    "* java\n",
    "* julia\n",
    "* c++"
   ]
  },
  {
   "cell_type": "markdown",
   "id": "7b6ae472",
   "metadata": {},
   "source": [
    "# Some of the commonly used libraries used by Data Scientists include:"
   ]
  },
  {
   "cell_type": "markdown",
   "id": "ff8ee149",
   "metadata": {},
   "source": [
    "* Penda\n",
    "* seaborne\n",
    "* skilearn\n",
    "* matplotlib"
   ]
  },
  {
   "cell_type": "markdown",
   "id": "804c27f5",
   "metadata": {},
   "source": []
  },
  {
   "cell_type": "markdown",
   "id": "aea5d22c",
   "metadata": {},
   "source": [
    "| Data Science Tools |\n",
    "| ------------------ |\n",
    "| Jupyter Notebook  |\n",
    "| Pandas            |\n",
    "| NumPy             |\n"
   ]
  },
  {
   "cell_type": "markdown",
   "id": "f9aa0af4",
   "metadata": {},
   "source": [
    "### Vous trouverez ci-dessous quelques exemples d'évaluation d'expressions arithmétiques en Python.\n",
    "\n",
    "1. Addition :\n",
    "   ```python\n",
    "   2 + 3\n"
   ]
  },
  {
   "cell_type": "code",
   "execution_count": null,
   "id": "ff3b85de",
   "metadata": {},
   "outputs": [],
   "source": []
  },
  {
   "cell_type": "code",
   "execution_count": 5,
   "id": "a6b6c435",
   "metadata": {},
   "outputs": [
    {
     "name": "stdout",
     "output_type": "stream",
     "text": [
      "17\n"
     ]
    }
   ],
   "source": [
    "# Il s'agit d'une expression arithmétique simple pour multiplier puis ajouter des nombres entiers.\n",
    "resultat = (3 * 4) + 5\n",
    "print(resultat)\n"
   ]
  },
  {
   "cell_type": "code",
   "execution_count": 6,
   "id": "9a2000bd",
   "metadata": {},
   "outputs": [
    {
     "name": "stdout",
     "output_type": "stream",
     "text": [
      "3.3333333333333335\n"
     ]
    }
   ],
   "source": [
    "# Cela convertira 200 minutes en heures en divisant par 60.\n",
    "minutes = 200\n",
    "heures = minutes / 60\n",
    "print(heures)\n"
   ]
  },
  {
   "cell_type": "markdown",
   "id": "9bc5f5ef",
   "metadata": {},
   "source": [
    "**Objectifs :**\n",
    "\n",
    "- Liste des langages populaires pour la science des données.\n",
    "- Utilisation des outils open source en science des données.\n",
    "- Exemples d'expressions arithmétiques en Python.\n"
   ]
  },
  {
   "cell_type": "markdown",
   "id": "640cf707",
   "metadata": {},
   "source": [
    "## Author\n",
    "ze minla'a mexin robertson\n"
   ]
  },
  {
   "cell_type": "code",
   "execution_count": null,
   "id": "46ca5775",
   "metadata": {},
   "outputs": [],
   "source": []
  },
  {
   "cell_type": "code",
   "execution_count": null,
   "id": "a72209dd",
   "metadata": {},
   "outputs": [],
   "source": []
  },
  {
   "cell_type": "code",
   "execution_count": null,
   "id": "8f779de8",
   "metadata": {},
   "outputs": [],
   "source": []
  }
 ],
 "metadata": {
  "kernelspec": {
   "display_name": "Python 3 (ipykernel)",
   "language": "python",
   "name": "python3"
  },
  "language_info": {
   "codemirror_mode": {
    "name": "ipython",
    "version": 3
   },
   "file_extension": ".py",
   "mimetype": "text/x-python",
   "name": "python",
   "nbconvert_exporter": "python",
   "pygments_lexer": "ipython3",
   "version": "3.10.9"
  }
 },
 "nbformat": 4,
 "nbformat_minor": 5
}
